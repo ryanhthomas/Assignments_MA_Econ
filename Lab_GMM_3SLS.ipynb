{
  "nbformat": 4,
  "nbformat_minor": 0,
  "metadata": {
    "colab": {
      "name": "Lab-GMM-3SLS.ipynb",
      "provenance": [],
      "collapsed_sections": []
    },
    "kernelspec": {
      "name": "python3",
      "display_name": "Python 3"
    }
  },
  "cells": [
    {
      "cell_type": "code",
      "metadata": {
        "id": "sS32iRSJ-MrT",
        "colab_type": "code",
        "outputId": "376a6c9a-e2df-46cd-e78c-b0e26549405f",
        "colab": {
          "base_uri": "https://localhost:8080/",
          "height": 486
        }
      },
      "source": [
        "!pip install linearmodels\n"
      ],
      "execution_count": 1,
      "outputs": [
        {
          "output_type": "stream",
          "text": [
            "Collecting linearmodels\n",
            "\u001b[?25l  Downloading https://files.pythonhosted.org/packages/80/e4/6ef7dda964a968225f32522ea2210c008b967130af5ac2e92c0e6efc2008/linearmodels-4.13.tar.gz (1.2MB)\n",
            "\u001b[K     |████████████████████████████████| 1.2MB 2.9MB/s \n",
            "\u001b[?25hRequirement already satisfied: numpy>=1.13 in /usr/local/lib/python3.6/dist-packages (from linearmodels) (1.16.5)\n",
            "Requirement already satisfied: pandas>=0.20 in /usr/local/lib/python3.6/dist-packages (from linearmodels) (0.24.2)\n",
            "Requirement already satisfied: scipy>=0.18 in /usr/local/lib/python3.6/dist-packages (from linearmodels) (1.3.1)\n",
            "Requirement already satisfied: patsy in /usr/local/lib/python3.6/dist-packages (from linearmodels) (0.5.1)\n",
            "Requirement already satisfied: statsmodels>=0.8 in /usr/local/lib/python3.6/dist-packages (from linearmodels) (0.10.1)\n",
            "Collecting cached_property>=1.5.1 (from linearmodels)\n",
            "  Downloading https://files.pythonhosted.org/packages/3b/86/85c1be2e8db9e13ef9a350aecd6dea292bd612fa288c2f40d035bb750ded/cached_property-1.5.1-py2.py3-none-any.whl\n",
            "Collecting mypy_extensions>=0.4 (from linearmodels)\n",
            "  Downloading https://files.pythonhosted.org/packages/5c/eb/975c7c080f3223a5cdaff09612f3a5221e4ba534f7039db34c35d95fa6a5/mypy_extensions-0.4.3-py2.py3-none-any.whl\n",
            "Requirement already satisfied: pytz>=2011k in /usr/local/lib/python3.6/dist-packages (from pandas>=0.20->linearmodels) (2018.9)\n",
            "Requirement already satisfied: python-dateutil>=2.5.0 in /usr/local/lib/python3.6/dist-packages (from pandas>=0.20->linearmodels) (2.5.3)\n",
            "Requirement already satisfied: six in /usr/local/lib/python3.6/dist-packages (from patsy->linearmodels) (1.12.0)\n",
            "Building wheels for collected packages: linearmodels\n",
            "  Building wheel for linearmodels (setup.py) ... \u001b[?25l\u001b[?25hdone\n",
            "  Created wheel for linearmodels: filename=linearmodels-4.13-py2.py3-none-any.whl size=802536 sha256=53374b58cf235058574d4ef5458ac7df57fbe6c95c0b846bae5b73424e068a19\n",
            "  Stored in directory: /root/.cache/pip/wheels/92/33/3a/5efd7cb50597ff3dc29256ba54e36e2a2c820fd1d1069ea967\n",
            "Successfully built linearmodels\n",
            "Installing collected packages: cached-property, mypy-extensions, linearmodels\n",
            "Successfully installed cached-property-1.5.1 linearmodels-4.13 mypy-extensions-0.4.3\n"
          ],
          "name": "stdout"
        }
      ]
    },
    {
      "cell_type": "code",
      "metadata": {
        "id": "bfxzEg57syFf",
        "colab_type": "code",
        "colab": {}
      },
      "source": [
        "import pandas as pd\n",
        "from linearmodels import IV2SLS, IV3SLS, IVSystemGMM"
      ],
      "execution_count": 0,
      "outputs": []
    },
    {
      "cell_type": "code",
      "metadata": {
        "id": "YrRmuw9os7yF",
        "colab_type": "code",
        "outputId": "ccadb002-9246-48fd-fcbf-be14e07c63c8",
        "colab": {
          "base_uri": "https://localhost:8080/",
          "height": 244
        }
      },
      "source": [
        "file=\"https://github.com/VitorKamada/ECO7110/raw/master/Data/mroz.dta\"\n",
        "df = pd.read_stata(file)\n",
        "df.head()"
      ],
      "execution_count": 3,
      "outputs": [
        {
          "output_type": "execute_result",
          "data": {
            "text/html": [
              "<div>\n",
              "<style scoped>\n",
              "    .dataframe tbody tr th:only-of-type {\n",
              "        vertical-align: middle;\n",
              "    }\n",
              "\n",
              "    .dataframe tbody tr th {\n",
              "        vertical-align: top;\n",
              "    }\n",
              "\n",
              "    .dataframe thead th {\n",
              "        text-align: right;\n",
              "    }\n",
              "</style>\n",
              "<table border=\"1\" class=\"dataframe\">\n",
              "  <thead>\n",
              "    <tr style=\"text-align: right;\">\n",
              "      <th></th>\n",
              "      <th>inlf</th>\n",
              "      <th>hours</th>\n",
              "      <th>kidslt6</th>\n",
              "      <th>kidsge6</th>\n",
              "      <th>age</th>\n",
              "      <th>educ</th>\n",
              "      <th>wage</th>\n",
              "      <th>repwage</th>\n",
              "      <th>hushrs</th>\n",
              "      <th>husage</th>\n",
              "      <th>huseduc</th>\n",
              "      <th>huswage</th>\n",
              "      <th>faminc</th>\n",
              "      <th>mtr</th>\n",
              "      <th>motheduc</th>\n",
              "      <th>fatheduc</th>\n",
              "      <th>unem</th>\n",
              "      <th>city</th>\n",
              "      <th>exper</th>\n",
              "      <th>nwifeinc</th>\n",
              "      <th>lwage</th>\n",
              "      <th>expersq</th>\n",
              "    </tr>\n",
              "  </thead>\n",
              "  <tbody>\n",
              "    <tr>\n",
              "      <th>0</th>\n",
              "      <td>1</td>\n",
              "      <td>1610</td>\n",
              "      <td>1</td>\n",
              "      <td>0</td>\n",
              "      <td>32</td>\n",
              "      <td>12</td>\n",
              "      <td>3.3540</td>\n",
              "      <td>2.65</td>\n",
              "      <td>2708</td>\n",
              "      <td>34</td>\n",
              "      <td>12</td>\n",
              "      <td>4.0288</td>\n",
              "      <td>16310.0</td>\n",
              "      <td>0.7215</td>\n",
              "      <td>12</td>\n",
              "      <td>7</td>\n",
              "      <td>5.0</td>\n",
              "      <td>0</td>\n",
              "      <td>14</td>\n",
              "      <td>10.910060</td>\n",
              "      <td>1.210154</td>\n",
              "      <td>196</td>\n",
              "    </tr>\n",
              "    <tr>\n",
              "      <th>1</th>\n",
              "      <td>1</td>\n",
              "      <td>1656</td>\n",
              "      <td>0</td>\n",
              "      <td>2</td>\n",
              "      <td>30</td>\n",
              "      <td>12</td>\n",
              "      <td>1.3889</td>\n",
              "      <td>2.65</td>\n",
              "      <td>2310</td>\n",
              "      <td>30</td>\n",
              "      <td>9</td>\n",
              "      <td>8.4416</td>\n",
              "      <td>21800.0</td>\n",
              "      <td>0.6615</td>\n",
              "      <td>7</td>\n",
              "      <td>7</td>\n",
              "      <td>11.0</td>\n",
              "      <td>1</td>\n",
              "      <td>5</td>\n",
              "      <td>19.499981</td>\n",
              "      <td>0.328512</td>\n",
              "      <td>25</td>\n",
              "    </tr>\n",
              "    <tr>\n",
              "      <th>2</th>\n",
              "      <td>1</td>\n",
              "      <td>1980</td>\n",
              "      <td>1</td>\n",
              "      <td>3</td>\n",
              "      <td>35</td>\n",
              "      <td>12</td>\n",
              "      <td>4.5455</td>\n",
              "      <td>4.04</td>\n",
              "      <td>3072</td>\n",
              "      <td>40</td>\n",
              "      <td>12</td>\n",
              "      <td>3.5807</td>\n",
              "      <td>21040.0</td>\n",
              "      <td>0.6915</td>\n",
              "      <td>12</td>\n",
              "      <td>7</td>\n",
              "      <td>5.0</td>\n",
              "      <td>0</td>\n",
              "      <td>15</td>\n",
              "      <td>12.039910</td>\n",
              "      <td>1.514138</td>\n",
              "      <td>225</td>\n",
              "    </tr>\n",
              "    <tr>\n",
              "      <th>3</th>\n",
              "      <td>1</td>\n",
              "      <td>456</td>\n",
              "      <td>0</td>\n",
              "      <td>3</td>\n",
              "      <td>34</td>\n",
              "      <td>12</td>\n",
              "      <td>1.0965</td>\n",
              "      <td>3.25</td>\n",
              "      <td>1920</td>\n",
              "      <td>53</td>\n",
              "      <td>10</td>\n",
              "      <td>3.5417</td>\n",
              "      <td>7300.0</td>\n",
              "      <td>0.7815</td>\n",
              "      <td>7</td>\n",
              "      <td>7</td>\n",
              "      <td>5.0</td>\n",
              "      <td>0</td>\n",
              "      <td>6</td>\n",
              "      <td>6.799996</td>\n",
              "      <td>0.092123</td>\n",
              "      <td>36</td>\n",
              "    </tr>\n",
              "    <tr>\n",
              "      <th>4</th>\n",
              "      <td>1</td>\n",
              "      <td>1568</td>\n",
              "      <td>1</td>\n",
              "      <td>2</td>\n",
              "      <td>31</td>\n",
              "      <td>14</td>\n",
              "      <td>4.5918</td>\n",
              "      <td>3.60</td>\n",
              "      <td>2000</td>\n",
              "      <td>32</td>\n",
              "      <td>12</td>\n",
              "      <td>10.0000</td>\n",
              "      <td>27300.0</td>\n",
              "      <td>0.6215</td>\n",
              "      <td>12</td>\n",
              "      <td>14</td>\n",
              "      <td>9.5</td>\n",
              "      <td>1</td>\n",
              "      <td>7</td>\n",
              "      <td>20.100058</td>\n",
              "      <td>1.524272</td>\n",
              "      <td>49</td>\n",
              "    </tr>\n",
              "  </tbody>\n",
              "</table>\n",
              "</div>"
            ],
            "text/plain": [
              "   inlf  hours  kidslt6  kidsge6  ...  exper   nwifeinc     lwage  expersq\n",
              "0     1   1610        1        0  ...     14  10.910060  1.210154      196\n",
              "1     1   1656        0        2  ...      5  19.499981  0.328512       25\n",
              "2     1   1980        1        3  ...     15  12.039910  1.514138      225\n",
              "3     1    456        0        3  ...      6   6.799996  0.092123       36\n",
              "4     1   1568        1        2  ...      7  20.100058  1.524272       49\n",
              "\n",
              "[5 rows x 22 columns]"
            ]
          },
          "metadata": {
            "tags": []
          },
          "execution_count": 3
        }
      ]
    },
    {
      "cell_type": "markdown",
      "metadata": {
        "id": "nVD_8qB-bopd",
        "colab_type": "text"
      },
      "source": [
        "a. Estimate equations (9.28) and (9.29) jointly by 3SLS, and compare the 3SLS estimates with the 2SLS estimates for equations (9.28) and (9.29)"
      ]
    },
    {
      "cell_type": "code",
      "metadata": {
        "id": "BaqV05AOtZ6V",
        "colab_type": "code",
        "outputId": "1463dd81-2d15-4ab0-f32e-6e2939317189",
        "colab": {
          "base_uri": "https://localhost:8080/",
          "height": 493
        }
      },
      "source": [
        "Eq1 ='hours ~ educ + age + kidslt6 + kidsge6 + nwifeinc + [lwage ~ exper + expersq]'\n",
        "\n",
        "Hours = IV2SLS.from_formula(Eq1, df).fit()\n",
        "\n",
        "print(Hours)\n"
      ],
      "execution_count": 4,
      "outputs": [
        {
          "output_type": "stream",
          "text": [
            "                          IV-2SLS Estimation Summary                          \n",
            "==============================================================================\n",
            "Dep. Variable:                  hours   R-squared:                      0.0861\n",
            "Estimator:                    IV-2SLS   Adj. R-squared:                 0.0731\n",
            "No. Observations:                 428   F-statistic:                    425.64\n",
            "Date:                Mon, Oct 21 2019   P-value (F-stat)                0.0000\n",
            "Time:                        21:29:46   Distribution:                  chi2(6)\n",
            "Cov. Estimator:                robust                                         \n",
            "                                                                              \n",
            "                             Parameter Estimates                              \n",
            "==============================================================================\n",
            "            Parameter  Std. Err.     T-stat    P-value    Lower CI    Upper CI\n",
            "------------------------------------------------------------------------------\n",
            "educ          -121.29     66.801    -1.8157     0.0694     -252.22      9.6361\n",
            "age            20.077     6.3043     3.1846     0.0014      7.7205      32.433\n",
            "kidslt6       -50.871     221.74    -0.2294     0.8185     -485.47      383.73\n",
            "kidsge6        68.078     61.148     1.1133     0.2656     -51.770      187.93\n",
            "nwifeinc      -12.646     5.7794    -2.1881     0.0287     -23.974     -1.3187\n",
            "lwage          1782.7     692.95     2.5727     0.0101      424.58      3140.9\n",
            "==============================================================================\n",
            "\n",
            "Endogenous: lwage\n",
            "Instruments: exper, expersq\n",
            "Robust Covariance (Heteroskedastic)\n",
            "Debiased: False\n"
          ],
          "name": "stdout"
        },
        {
          "output_type": "stream",
          "text": [
            "/usr/local/lib/python3.6/dist-packages/linearmodels/utility.py:478: MissingValueWarning: \n",
            "Inputs contain missing values. Dropping rows with missing observations.\n",
            "  warnings.warn(missing_value_warning_msg, MissingValueWarning)\n"
          ],
          "name": "stderr"
        }
      ]
    },
    {
      "cell_type": "code",
      "metadata": {
        "id": "idWGiKWf1Hht",
        "colab_type": "code",
        "outputId": "e2027e35-d6fd-4ac8-8c2e-bbac020f40c6",
        "colab": {
          "base_uri": "https://localhost:8080/",
          "height": 459
        }
      },
      "source": [
        "Eq2 = 'lwage ~ educ + exper + expersq [hours ~ age + kidslt6 + kidsge6 + nwifeinc]'\n",
        "Lwage = IV2SLS.from_formula(Eq2, df).fit()\n",
        "print(Lwage)"
      ],
      "execution_count": 5,
      "outputs": [
        {
          "output_type": "stream",
          "text": [
            "                          IV-2SLS Estimation Summary                          \n",
            "==============================================================================\n",
            "Dep. Variable:                  lwage   R-squared:                      0.7533\n",
            "Estimator:                    IV-2SLS   Adj. R-squared:                 0.7510\n",
            "No. Observations:                 428   F-statistic:                    1473.7\n",
            "Date:                Mon, Oct 21 2019   P-value (F-stat)                0.0000\n",
            "Time:                        21:29:53   Distribution:                  chi2(4)\n",
            "Cov. Estimator:                robust                                         \n",
            "                                                                              \n",
            "                             Parameter Estimates                              \n",
            "==============================================================================\n",
            "            Parameter  Std. Err.     T-stat    P-value    Lower CI    Upper CI\n",
            "------------------------------------------------------------------------------\n",
            "educ           0.0891     0.0182     4.8935     0.0000      0.0534      0.1248\n",
            "exper          0.0553     0.0339     1.6328     0.1025     -0.0111      0.1218\n",
            "expersq       -0.0010     0.0007    -1.4240     0.1544     -0.0023      0.0004\n",
            "hours         -0.0003     0.0004    -0.8690     0.3848     -0.0011      0.0004\n",
            "==============================================================================\n",
            "\n",
            "Endogenous: hours\n",
            "Instruments: age, kidslt6, kidsge6, nwifeinc\n",
            "Robust Covariance (Heteroskedastic)\n",
            "Debiased: False\n"
          ],
          "name": "stdout"
        },
        {
          "output_type": "stream",
          "text": [
            "/usr/local/lib/python3.6/dist-packages/linearmodels/utility.py:478: MissingValueWarning: \n",
            "Inputs contain missing values. Dropping rows with missing observations.\n",
            "  warnings.warn(missing_value_warning_msg, MissingValueWarning)\n"
          ],
          "name": "stderr"
        }
      ]
    },
    {
      "cell_type": "code",
      "metadata": {
        "id": "luFc-WNp10kp",
        "colab_type": "code",
        "outputId": "505583f0-c146-485f-dbfa-9882ccdbd21b",
        "colab": {
          "base_uri": "https://localhost:8080/",
          "height": 765
        }
      },
      "source": [
        "Eq = dict(hours= Eq1, lwage = Eq2)\n",
        "IV3SLS = IV3SLS.from_formula(Eq, df).fit (method='gls')\n",
        "print(IV3SLS)\n"
      ],
      "execution_count": 6,
      "outputs": [
        {
          "output_type": "stream",
          "text": [
            "                        System GLS Estimation Summary                         \n",
            "==============================================================================\n",
            "Estimator:                        GLS   Overall R-squared:             -0.0476\n",
            "No. Equations.:                     2   Cov. Estimator:                 robust\n",
            "No. Observations:                 428   Num. Constraints:                 None\n",
            "Date:                Mon, Oct 21 2019                                         \n",
            "Time:                        21:30:06                                         \n",
            "                                                                              \n",
            "                                                                              \n",
            "                  Equation: hours, Dependent Variable: hours                  \n",
            "==============================================================================\n",
            "            Parameter  Std. Err.     T-stat    P-value    Lower CI    Upper CI\n",
            "------------------------------------------------------------------------------\n",
            "educ          -120.97     22.700    -5.3288     0.0000     -165.46     -76.475\n",
            "age            13.868     4.5130     3.0730     0.0021      5.0230      22.714\n",
            "kidslt6       -213.19     109.35    -1.9497     0.0512     -427.50      1.1258\n",
            "kidsge6        34.110     56.437     0.6044     0.5456     -76.504      144.72\n",
            "nwifeinc      -6.7665     5.1700    -1.3088     0.1906     -16.900      3.3666\n",
            "lwage          1953.4     213.83     9.1352     0.0000      1534.3      2372.5\n",
            "                                                                              \n",
            "==============\n",
            " Instruments  \n",
            "--------------\n",
            "exper, expersq\n",
            "              \n",
            "                  Equation: lwage, Dependent Variable: lwage                  \n",
            "==============================================================================\n",
            "            Parameter  Std. Err.     T-stat    P-value    Lower CI    Upper CI\n",
            "------------------------------------------------------------------------------\n",
            "educ           0.0880     0.0254     3.4655     0.0005      0.0382      0.1377\n",
            "exper          0.0571     0.0484     1.1796     0.2382     -0.0378      0.1519\n",
            "expersq       -0.0011     0.0010    -1.0703     0.2845     -0.0030      0.0009\n",
            "hours         -0.0003     0.0005    -0.5920     0.5539     -0.0014      0.0007\n",
            "===============================\n",
            "          Instruments          \n",
            "-------------------------------\n",
            "age, kidslt6, kidsge6, nwifeinc\n",
            "-------------------------------\n",
            "\n",
            "Covariance Estimator:\n",
            "Heteroskedastic (Robust) Covariance (Debiased: False, GLS: True)\n"
          ],
          "name": "stdout"
        },
        {
          "output_type": "stream",
          "text": [
            "/usr/local/lib/python3.6/dist-packages/linearmodels/utility.py:478: MissingValueWarning: \n",
            "Inputs contain missing values. Dropping rows with missing observations.\n",
            "  warnings.warn(missing_value_warning_msg, MissingValueWarning)\n"
          ],
          "name": "stderr"
        }
      ]
    },
    {
      "cell_type": "markdown",
      "metadata": {
        "id": "yXZ_Z3tKNEdM",
        "colab_type": "text"
      },
      "source": [
        "The 3SLS method produced results with lower standard errors for equation 9.28 but higher standard errors for equation 9.29.  "
      ]
    },
    {
      "cell_type": "markdown",
      "metadata": {
        "id": "ro_YFWIicUCF",
        "colab_type": "text"
      },
      "source": [
        "b. Now allow educ to be endogenous in equation (9.29). but assume it is exogenous in equation (9.28). Estimate a three equation system using different instruments for different equations, where motheeduc, fatheduc, and huseduc are assumed exogenous in equations (9,28) and (9.29)"
      ]
    },
    {
      "cell_type": "code",
      "metadata": {
        "id": "Pq5GQd0JgTyl",
        "colab_type": "code",
        "outputId": "21f5ef0a-1c8c-4828-d69c-c489b768dcf2",
        "colab": {
          "base_uri": "https://localhost:8080/",
          "height": 1000
        }
      },
      "source": [
        "\n",
        "Eq1 ='hours ~ educ + age +  kidslt6 + kidsge6 + nwifeinc + motheduc + fatheduc + huseduc + [lwage  ~ exper + expersq]'\n",
        "\n",
        "Eq2 = 'lwage ~ [hours + educ ~ age + kidslt6 + kidsge6 + nwifeinc]+ exper + expersq + motheduc + fatheduc + huseduc'\n",
        "\n",
        "Eq3 = 'educ ~ age + kidslt6 + kidsge6 + nwifeinc + exper + expersq + motheduc + fatheduc + huseduc'\n",
        "\n",
        "\n",
        "Eq = dict(hours= Eq1,lwage=Eq2, educ=Eq3)\n",
        "system_gmm = IVSystemGMM.from_formula(Eq, df, weight_type='robust')\n",
        "system_gmm_res = system_gmm.fit(cov_type='robust', iter_limit=100)\n",
        "print('Number of iterations: ' + str(system_gmm_res.iterations))\n",
        "print(system_gmm_res)\n",
        "\n",
        "\n",
        "\n"
      ],
      "execution_count": 8,
      "outputs": [
        {
          "output_type": "stream",
          "text": [
            "Number of iterations: 20\n",
            "                 System Iterative System GMM Estimation Summary                 \n",
            "================================================================================\n",
            "Estimator:         Iterative System GMM   Overall R-squared:             -0.0808\n",
            "No. Equations.:                       3   Cov. Estimator:                 robust\n",
            "No. Observations:                   428   Num. Constraints:                 None\n",
            "Date:                  Mon, Oct 21 2019                                         \n",
            "Time:                          21:30:18                                         \n",
            "                                                                                \n",
            "                                                                                \n",
            "                  Equation: hours, Dependent Variable: hours                  \n",
            "==============================================================================\n",
            "            Parameter  Std. Err.     T-stat    P-value    Lower CI    Upper CI\n",
            "------------------------------------------------------------------------------\n",
            "educ          -214.16     96.410    -2.2214     0.0263     -403.12     -25.201\n",
            "age            17.577     6.8428     2.5686     0.0102      4.1650      30.988\n",
            "kidslt6       -201.07     228.31    -0.8807     0.3785     -648.55      246.40\n",
            "kidsge6        23.002     52.692     0.4365     0.6624     -80.271      126.28\n",
            "nwifeinc      -7.2792     6.1335    -1.1868     0.2353     -19.301      4.7423\n",
            "motheduc       55.265     27.605     2.0020     0.0453      1.1602      109.37\n",
            "fatheduc      -0.8791     24.728    -0.0356     0.9716     -49.345      47.587\n",
            "huseduc        34.886     32.785     1.0641     0.2873     -29.373      99.144\n",
            "lwage          2018.7     721.34     2.7986     0.0051      604.91      3432.5\n",
            "                                                                              \n",
            "==============\n",
            " Instruments  \n",
            "--------------\n",
            "exper, expersq\n",
            "              \n",
            "                  Equation: lwage, Dependent Variable: lwage                  \n",
            "==============================================================================\n",
            "            Parameter  Std. Err.     T-stat    P-value    Lower CI    Upper CI\n",
            "------------------------------------------------------------------------------\n",
            "exper          0.0684     0.0338     2.0275     0.0426      0.0023      0.1346\n",
            "expersq       -0.0013     0.0007    -1.9858     0.0471     -0.0026  -1.714e-05\n",
            "motheduc      -0.0041     0.0160    -0.2553     0.7985     -0.0353      0.0272\n",
            "fatheduc      -0.0017     0.0133    -0.1289     0.8974     -0.0278      0.0244\n",
            "huseduc        0.0028     0.0290     0.0966     0.9230     -0.0540      0.0596\n",
            "hours         -0.0004     0.0004    -0.9154     0.3600     -0.0012      0.0004\n",
            "educ           0.0879     0.0516     1.7033     0.0885     -0.0133      0.1891\n",
            "                                                                              \n",
            "===============================\n",
            "          Instruments          \n",
            "-------------------------------\n",
            "age, kidslt6, kidsge6, nwifeinc\n",
            "                               \n",
            "                   Equation: educ, Dependent Variable: educ                   \n",
            "==============================================================================\n",
            "            Parameter  Std. Err.     T-stat    P-value    Lower CI    Upper CI\n",
            "------------------------------------------------------------------------------\n",
            "age            0.0796     0.0093     8.5531     0.0000      0.0613      0.0978\n",
            "kidslt6        0.9392     0.2085     4.5038     0.0000      0.5305      1.3479\n",
            "kidsge6        0.1007     0.0685     1.4687     0.1419     -0.0337      0.2350\n",
            "nwifeinc       0.0152     0.0100     1.5220     0.1280     -0.0044      0.0349\n",
            "exper          0.1162     0.0317     3.6682     0.0002      0.0541      0.1783\n",
            "expersq       -0.0031     0.0010    -3.2059     0.0013     -0.0051     -0.0012\n",
            "motheduc       0.1879     0.0313     5.9983     0.0000      0.1265      0.2493\n",
            "fatheduc       0.1095     0.0289     3.7868     0.0002      0.0528      0.1662\n",
            "huseduc        0.4074     0.0344     11.833     0.0000      0.3399      0.4749\n",
            "==============================================================================\n",
            "\n",
            "Covariance Estimator:\n",
            "GMM Heteroskedastic (Robust) Covariance\n",
            "Weight Estimator:\n",
            "Heteroskedastic (Robust) Weighting (Debiased: False, Center: False)\n"
          ],
          "name": "stdout"
        },
        {
          "output_type": "stream",
          "text": [
            "/usr/local/lib/python3.6/dist-packages/linearmodels/utility.py:478: MissingValueWarning: \n",
            "Inputs contain missing values. Dropping rows with missing observations.\n",
            "  warnings.warn(missing_value_warning_msg, MissingValueWarning)\n"
          ],
          "name": "stderr"
        }
      ]
    }
  ]
}