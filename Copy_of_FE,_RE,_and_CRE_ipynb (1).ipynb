{
  "nbformat": 4,
  "nbformat_minor": 0,
  "metadata": {
    "colab": {
      "name": "Copy of FE, RE, and CRE. ipynb",
      "provenance": [],
      "collapsed_sections": []
    },
    "kernelspec": {
      "name": "python3",
      "display_name": "Python 3"
    }
  },
  "cells": [
    {
      "cell_type": "markdown",
      "metadata": {
        "id": "-KQjtmln1A6T",
        "colab_type": "text"
      },
      "source": [
        "ECO 7110 – Econometrics II\n",
        "\n",
        "Abrar Bagalb, Robert Schultz, and Ryan Thomas\n",
        "\n",
        "OCTOBER 2, 2019\n",
        "\n",
        "            FE,RE,and CRE Lab"
      ]
    },
    {
      "cell_type": "markdown",
      "metadata": {
        "id": "I0gRycwFTGF9",
        "colab_type": "text"
      },
      "source": [
        "(a)Estimate the model by RE, and interpret the coefficient on the in-season \n",
        "variable\n"
      ]
    },
    {
      "cell_type": "code",
      "metadata": {
        "id": "yswvx-CPTqsv",
        "colab_type": "code",
        "outputId": "9f076a63-c4bf-4545-fc40-0e2258c31f65",
        "colab": {
          "base_uri": "https://localhost:8080/",
          "height": 1000
        }
      },
      "source": [
        "!pip install linearmodels\n",
        "import numpy as np\n",
        "import pandas as pd\n",
        "from linearmodels import PanelOLS\n",
        "from linearmodels import RandomEffects\n",
        "from statsmodels import regression\n",
        "from statsmodels.stats import diagnostic\n",
        "import statsmodels.regression as smr\n",
        "import statsmodels.api as sm\n",
        "import linearmodels as lm\n",
        "from linearmodels.iv import IV2SLS\n",
        "import scipy as sp\n",
        "import scipy.stats\n",
        "file=\"https://github.com/VitorKamada/ECO7110/raw/master/Data/gpa.dta\"\n",
        "data = pd.read_stata(file)\n",
        "term8808 = pd.Categorical(data.term)\n",
        "idt = pd.Categorical(data['id'])\n",
        "data['term8808']= term8808\n",
        "data['idt']= idt\n",
        "data = data.set_index(['idt', 'term'])\n",
        "exog_vars = ['spring','crsgpa','frstsem','season',\n",
        "           'sat', 'verbmath', 'hsperc', 'hssize', 'black', 'female']\n",
        "exog = sm.add_constant(data[exog_vars])\n",
        "OLS = PooledOLS(data.trmgpa, \n",
        " exog).fit(cov_type='clustered', cluster_entity=True)\n",
        "from linearmodels.panel import RandomEffects\n",
        "RE = RandomEffects(data.trmgpa, \n",
        " exog).fit(cov_type='clustered', cluster_entity=True)\n",
        "print(RE)\n"
      ],
      "execution_count": 0,
      "outputs": [
        {
          "output_type": "stream",
          "text": [
            "Requirement already satisfied: linearmodels in /usr/local/lib/python3.6/dist-packages (4.13)\n",
            "Requirement already satisfied: patsy in /usr/local/lib/python3.6/dist-packages (from linearmodels) (0.5.1)\n",
            "Requirement already satisfied: statsmodels>=0.8 in /usr/local/lib/python3.6/dist-packages (from linearmodels) (0.10.1)\n",
            "Requirement already satisfied: pandas>=0.20 in /usr/local/lib/python3.6/dist-packages (from linearmodels) (0.24.2)\n",
            "Requirement already satisfied: cached-property>=1.5.1 in /usr/local/lib/python3.6/dist-packages (from linearmodels) (1.5.1)\n",
            "Requirement already satisfied: numpy>=1.13 in /usr/local/lib/python3.6/dist-packages (from linearmodels) (1.16.5)\n",
            "Requirement already satisfied: scipy>=0.18 in /usr/local/lib/python3.6/dist-packages (from linearmodels) (1.3.1)\n",
            "Requirement already satisfied: mypy-extensions>=0.4 in /usr/local/lib/python3.6/dist-packages (from linearmodels) (0.4.1)\n",
            "Requirement already satisfied: six in /usr/local/lib/python3.6/dist-packages (from patsy->linearmodels) (1.12.0)\n",
            "Requirement already satisfied: pytz>=2011k in /usr/local/lib/python3.6/dist-packages (from pandas>=0.20->linearmodels) (2018.9)\n",
            "Requirement already satisfied: python-dateutil>=2.5.0 in /usr/local/lib/python3.6/dist-packages (from pandas>=0.20->linearmodels) (2.5.3)\n",
            "                        RandomEffects Estimation Summary                        \n",
            "================================================================================\n",
            "Dep. Variable:                 trmgpa   R-squared:                        0.4167\n",
            "Estimator:              RandomEffects   R-squared (Between):              0.5389\n",
            "No. Observations:                 732   R-squared (Within):               0.2061\n",
            "Date:                Wed, Oct 02 2019   R-squared (Overall):              0.4785\n",
            "Time:                        19:00:00   Log-likelihood                   -380.32\n",
            "Cov. Estimator:             Clustered                                           \n",
            "                                        F-statistic:                      51.505\n",
            "Entities:                         366   P-value                           0.0000\n",
            "Avg Obs:                       2.0000   Distribution:                  F(10,721)\n",
            "Min Obs:                       2.0000                                           \n",
            "Max Obs:                       2.0000   F-statistic (robust):             58.564\n",
            "                                        P-value                           0.0000\n",
            "Time periods:                       2   Distribution:                  F(10,721)\n",
            "Avg Obs:                       366.00                                           \n",
            "Min Obs:                       366.00                                           \n",
            "Max Obs:                       366.00                                           \n",
            "                                                                                \n",
            "                             Parameter Estimates                              \n",
            "==============================================================================\n",
            "            Parameter  Std. Err.     T-stat    P-value    Lower CI    Upper CI\n",
            "------------------------------------------------------------------------------\n",
            "const         -1.7335     0.3519    -4.9269     0.0000     -2.4243     -1.0428\n",
            "spring        -0.0606     0.0371    -1.6355     0.1024     -0.1334      0.0121\n",
            "crsgpa         1.0818     0.0953     11.356     0.0000      0.8948      1.2689\n",
            "frstsem        0.0029     0.0614     0.0464     0.9630     -0.1177      0.1234\n",
            "season        -0.0439     0.0390    -1.1257     0.2607     -0.1206      0.0327\n",
            "sat            0.0017     0.0002     8.9646     0.0000      0.0013      0.0021\n",
            "verbmath      -0.1575     0.1638    -0.9613     0.3367     -0.4790      0.1641\n",
            "hsperc        -0.0085     0.0013    -6.4885     0.0000     -0.0110     -0.0059\n",
            "hssize      -7.75e-05     0.0001    -0.6579     0.5108     -0.0003      0.0002\n",
            "black         -0.2348     0.0758    -3.0965     0.0020     -0.3837     -0.0859\n",
            "female         0.3581     0.0562     6.3783     0.0000      0.2479      0.4684\n",
            "==============================================================================\n"
          ],
          "name": "stdout"
        },
        {
          "output_type": "stream",
          "text": [
            "/usr/local/lib/python3.6/dist-packages/numpy/core/fromnumeric.py:2389: FutureWarning: Method .ptp is deprecated and will be removed in a future version. Use numpy.ptp instead.\n",
            "  return ptp(axis=axis, out=out, **kwargs)\n"
          ],
          "name": "stderr"
        }
      ]
    },
    {
      "cell_type": "markdown",
      "metadata": {
        "id": "LBuaKIp1WUBo",
        "colab_type": "text"
      },
      "source": [
        "The coefficient on season is -0.04 which means that being in season is estimated to reduce term GPA by 0.04 points."
      ]
    },
    {
      "cell_type": "markdown",
      "metadata": {
        "id": "n1wO7bsxTbEh",
        "colab_type": "text"
      },
      "source": [
        "b)Estimate the model by FE;informally compare the estimates to the RE estimates,\n",
        "in particular that on the in-season effect."
      ]
    },
    {
      "cell_type": "code",
      "metadata": {
        "id": "SEAEC0ouT8Zu",
        "colab_type": "code",
        "outputId": "145ebe26-98ca-49ab-9d1e-c4306372998c",
        "colab": {
          "base_uri": "https://localhost:8080/",
          "height": 914
        }
      },
      "source": [
        "from linearmodels.panel import PanelOLS\n",
        "FE = PanelOLS(data.trmgpa, exog, entity_effects=True, \n",
        " drop_absorbed=True).fit(cov_type='clustered', cluster_entity=True)\n",
        "print(FE)"
      ],
      "execution_count": 0,
      "outputs": [
        {
          "output_type": "stream",
          "text": [
            "                          PanelOLS Estimation Summary                           \n",
            "================================================================================\n",
            "Dep. Variable:                 trmgpa   R-squared:                        0.2069\n",
            "Estimator:                   PanelOLS   R-squared (Between):              0.0213\n",
            "No. Observations:                 732   R-squared (Within):               0.2069\n",
            "Date:                Wed, Oct 02 2019   R-squared (Overall):              0.0550\n",
            "Time:                        17:52:07   Log-likelihood                   -126.20\n",
            "Cov. Estimator:             Clustered                                           \n",
            "                                        F-statistic:                      23.611\n",
            "Entities:                         366   P-value                           0.0000\n",
            "Avg Obs:                       2.0000   Distribution:                   F(4,362)\n",
            "Min Obs:                       2.0000                                           \n",
            "Max Obs:                       2.0000   F-statistic (robust):             19.555\n",
            "                                        P-value                           0.0000\n",
            "Time periods:                       2   Distribution:                   F(4,362)\n",
            "Avg Obs:                       366.00                                           \n",
            "Min Obs:                       366.00                                           \n",
            "Max Obs:                       366.00                                           \n",
            "                                                                                \n",
            "                             Parameter Estimates                              \n",
            "==============================================================================\n",
            "            Parameter  Std. Err.     T-stat    P-value    Lower CI    Upper CI\n",
            "------------------------------------------------------------------------------\n",
            "const         -0.7708     0.3590    -2.1472     0.0324     -1.4768     -0.0649\n",
            "spring        -0.0658     0.0392    -1.6775     0.0943     -0.1429      0.0113\n",
            "crsgpa         1.1407     0.1309     8.7154     0.0000      0.8833      1.3981\n",
            "frstsem        0.0129     0.0680     0.1891     0.8501     -0.1208      0.1465\n",
            "season        -0.0566     0.0409    -1.3856     0.1667     -0.1370      0.0237\n",
            "==============================================================================\n",
            "\n",
            "F-test for Poolability: 5.3986\n",
            "P-value: 0.0000\n",
            "Distribution: F(365,362)\n",
            "\n",
            "Included effects: Entity\n"
          ],
          "name": "stdout"
        },
        {
          "output_type": "stream",
          "text": [
            "/usr/local/lib/python3.6/dist-packages/linearmodels/panel/model.py:1316: AbsorbingEffectWarning: \n",
            "Variables have been fully absorbed and have removed from the regression:\n",
            "\n",
            "sat, verbmath, hsperc, hssize, black, female\n",
            "\n",
            "  AbsorbingEffectWarning)\n"
          ],
          "name": "stderr"
        }
      ]
    },
    {
      "cell_type": "markdown",
      "metadata": {
        "id": "MEanwPSDYrCt",
        "colab_type": "text"
      },
      "source": [
        " The coefficient on the season is larger in FE (-0.056), and it is more statistically significant"
      ]
    },
    {
      "cell_type": "markdown",
      "metadata": {
        "id": "zgkpoB2mS9xl",
        "colab_type": "text"
      },
      "source": [
        "c)Construct the nonrobust Hausman test comparing RE and FE. Include all \n",
        "variables in W that have some varation across i and t, except for the term dummy"
      ]
    },
    {
      "cell_type": "code",
      "metadata": {
        "id": "tXuyR5Q4U9z7",
        "colab_type": "code",
        "outputId": "5a543063-ed7e-4e1c-dbbf-f63a9a4e19d9",
        "colab": {
          "base_uri": "https://localhost:8080/",
          "height": 1000
        }
      },
      "source": [
        "from linearmodels.panel import compare\n",
        "print(compare({'OLS':OLS,'RE': RE, 'FE': FE}))\n",
        "data['crsgpabar'] = data.groupby(idt)['crsgpa'].transform('mean')\n",
        "data['frstsembar'] = data.groupby(idt)['frstsem'].transform('mean')\n",
        "data['seasonbar'] = data.groupby(idt)['season'].transform('mean')\n",
        "Exog = ['spring','crsgpa','frstsem','season',\n",
        "           'sat', 'verbmath', 'hsperc', 'hssize', 'black', 'female', 'crsgpabar', 'frstsembar', 'seasonbar']\n",
        "\n",
        "Exog = sm.add_constant(data[Exog])\n",
        "CRE = RandomEffects(data.trmgpa,Exog).fit(cov_type='clustered', cluster_entity=True)\n",
        "print(CRE)\n"
      ],
      "execution_count": 0,
      "outputs": [
        {
          "output_type": "stream",
          "text": [
            "                           Model Comparison                           \n",
            "======================================================================\n",
            "                                   FE            OLS                RE\n",
            "----------------------------------------------------------------------\n",
            "Dep. Variable                  trmgpa         trmgpa            trmgpa\n",
            "Estimator                    PanelOLS      PooledOLS     RandomEffects\n",
            "No. Observations                  732            732               732\n",
            "Cov. Est.                   Clustered      Clustered         Clustered\n",
            "R-squared                      0.2069         0.4787            0.4167\n",
            "R-Squared (Within)             0.2069         0.2041            0.2061\n",
            "R-Squared (Between)            0.0213         0.5396            0.5389\n",
            "R-Squared (Overall)            0.0550         0.4787            0.4785\n",
            "F-statistic                    23.611         66.215            51.505\n",
            "P-value (F-stat)               0.0000         0.0000            0.0000\n",
            "=====================     ===========   ============   ===============\n",
            "const                         -0.7708        -1.6303           -1.7335\n",
            "                            (-2.1472)      (-4.6084)         (-4.9269)\n",
            "spring                        -0.0658        -0.0566           -0.0606\n",
            "                            (-1.6775)      (-1.4506)         (-1.6355)\n",
            "crsgpa                         1.1407         1.0422            1.0818\n",
            "                             (8.7154)       (10.640)          (11.356)\n",
            "frstsem                        0.0129        -0.0115            0.0029\n",
            "                             (0.1891)      (-0.1644)          (0.0464)\n",
            "season                        -0.0566        -0.0282           -0.0439\n",
            "                            (-1.3856)      (-0.6520)         (-1.1257)\n",
            "sat                                           0.0017            0.0017\n",
            "                                            (9.0244)          (8.9646)\n",
            "verbmath                                     -0.1519           -0.1575\n",
            "                                           (-0.9242)         (-0.9613)\n",
            "hsperc                                       -0.0085           -0.0085\n",
            "                                           (-6.4781)         (-6.4885)\n",
            "hssize                                    -7.718e-05         -7.75e-05\n",
            "                                           (-0.6563)         (-0.6579)\n",
            "black                                        -0.2370           -0.2348\n",
            "                                           (-3.1302)         (-3.0965)\n",
            "female                                        0.3565            0.3581\n",
            "                                            (6.3111)          (6.3783)\n",
            "======================= ============= ============== =================\n",
            "Effects                        Entity                                 \n",
            "----------------------------------------------------------------------\n",
            "\n",
            "T-stats reported in parentheses\n"
          ],
          "name": "stdout"
        },
        {
          "output_type": "stream",
          "text": [
            "/usr/local/lib/python3.6/dist-packages/numpy/core/fromnumeric.py:2389: FutureWarning: Method .ptp is deprecated and will be removed in a future version. Use numpy.ptp instead.\n",
            "  return ptp(axis=axis, out=out, **kwargs)\n"
          ],
          "name": "stderr"
        },
        {
          "output_type": "stream",
          "text": [
            "                        RandomEffects Estimation Summary                        \n",
            "================================================================================\n",
            "Dep. Variable:                 trmgpa   R-squared:                        0.4191\n",
            "Estimator:              RandomEffects   R-squared (Between):              0.5408\n",
            "No. Observations:                 732   R-squared (Within):               0.2069\n",
            "Date:                Wed, Oct 02 2019   R-squared (Overall):              0.4802\n",
            "Time:                        17:50:11   Log-likelihood                   -381.57\n",
            "Cov. Estimator:             Clustered                                           \n",
            "                                        F-statistic:                      39.848\n",
            "Entities:                         366   P-value                           0.0000\n",
            "Avg Obs:                       2.0000   Distribution:                  F(13,718)\n",
            "Min Obs:                       2.0000                                           \n",
            "Max Obs:                       2.0000   F-statistic (robust):             48.508\n",
            "                                        P-value                           0.0000\n",
            "Time periods:                       2   Distribution:                  F(13,718)\n",
            "Avg Obs:                       366.00                                           \n",
            "Min Obs:                       366.00                                           \n",
            "Max Obs:                       366.00                                           \n",
            "                                                                                \n",
            "                             Parameter Estimates                              \n",
            "==============================================================================\n",
            "            Parameter  Std. Err.     T-stat    P-value    Lower CI    Upper CI\n",
            "------------------------------------------------------------------------------\n",
            "const         -1.4238     0.4568    -3.1169     0.0019     -2.3206     -0.5270\n",
            "spring        -0.0658     0.0395    -1.6671     0.0959     -0.1433      0.0117\n",
            "crsgpa         1.1407     0.1317     8.6613     0.0000      0.8821      1.3992\n",
            "frstsem        0.0129     0.0684     0.1879     0.8510     -0.1214      0.1471\n",
            "season        -0.0566     0.0411    -1.3770     0.1689     -0.1374      0.0241\n",
            "sat            0.0017     0.0002     9.0324     0.0000      0.0013      0.0020\n",
            "verbmath      -0.1316     0.1664    -0.7913     0.4290     -0.4583      0.1950\n",
            "hsperc        -0.0085     0.0013    -6.4513     0.0000     -0.0110     -0.0059\n",
            "hssize     -7.829e-05     0.0001    -0.6685     0.5041     -0.0003      0.0002\n",
            "black         -0.2448     0.0755    -3.2416     0.0012     -0.3931     -0.0965\n",
            "female         0.3357     0.0677     4.9582     0.0000      0.2028      0.4686\n",
            "crsgpabar     -0.1862     0.1955    -0.9521     0.3414     -0.5700      0.1977\n",
            "frstsembar    -0.0782     0.1465    -0.5341     0.5934     -0.3658      0.2094\n",
            "seasonbar      0.1243     0.1341     0.9267     0.3544     -0.1390      0.3876\n",
            "==============================================================================\n"
          ],
          "name": "stdout"
        }
      ]
    }
  ]
}